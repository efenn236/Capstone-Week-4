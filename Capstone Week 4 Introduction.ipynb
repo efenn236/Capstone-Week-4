{
    "cells": [
        {
            "metadata": {
                "collapsed": true
            },
            "cell_type": "markdown",
            "source": "# The Battle of Neighborhoods"
        },
        {
            "metadata": {},
            "cell_type": "markdown",
            "source": "In this notebook we will be exploring City of toronto for new restaurants.\n\nDescripton: \nIn this project we will explore Toronto city's data. Here we will try to find if someone wants to open a new restaurant in the city, which location is best. Some considerations include nearby competitors and which income group of people will be attracted most to it based on the population of the neighbourhood.\n\nBackground: \nToronto is the provincial capital of Ontario and the most populous city in Canada, with a population of 2,731,571 as of 2016. Current to 2016, the Toronto census metropolitan area (CMA), of which the majority is within the Greater Toronto Area (GTA), held a population of 5,928,040, making it Canada's most populous CMA. The city is the anchor of the Golden Horseshoe, an urban agglomeration of 9,245,438 people (as of 2016) surrounding the western end of Lake Ontario. Toronto is an international centre of business, finance, arts, and culture, and is recognized as one of the most multicultural and cosmopolitan cities in the world. \n**Target Audience** New Business who wants to open a restaurant in Toronto.\n\nThis project will try to solve the above problem by suggesting to the Target Audience which is the best locality to open new restaurants and gaining maximum profits in Toronto."
        }
    ],
    "metadata": {
        "kernelspec": {
            "name": "python3",
            "display_name": "Python 3.6",
            "language": "python"
        },
        "language_info": {
            "name": "python",
            "version": "3.6.9",
            "mimetype": "text/x-python",
            "codemirror_mode": {
                "name": "ipython",
                "version": 3
            },
            "pygments_lexer": "ipython3",
            "nbconvert_exporter": "python",
            "file_extension": ".py"
        }
    },
    "nbformat": 4,
    "nbformat_minor": 1
}
